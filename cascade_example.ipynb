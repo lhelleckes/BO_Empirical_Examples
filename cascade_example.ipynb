{
 "cells": [
  {
   "cell_type": "code",
   "execution_count": 1,
   "metadata": {},
   "outputs": [],
   "source": [
    "import pandas as pd\n",
    "import torch\n",
    "import numpy as np\n",
    "import matplotlib.pyplot as plt\n",
    "import ipywidgets as widgets\n",
    "from ipywidgets import interact, VBox, HBox, interactive_output\n",
    "from utils import create_slider, get_slider_values\n",
    "from torch import Tensor\n",
    "from botorch.models import SingleTaskGP\n",
    "from botorch.models.transforms import Standardize, Normalize\n",
    "from botorch.utils.transforms import normalize, unnormalize\n",
    "from botorch.fit import fit_gpytorch_mll\n",
    "from gpytorch.mlls import ExactMarginalLogLikelihood\n",
    "from gpytorch.kernels import RBFKernel, ScaleKernel\n",
    "from matplotlib import pyplot as plt\n",
    "from botorch.acquisition import ExpectedImprovement\n",
    "\n",
    "dtype = torch.double"
   ]
  },
  {
   "cell_type": "markdown",
   "metadata": {},
   "source": [
    "## Example - Enzyme Cascade\n",
    "\n",
    "$$\n",
    "P(E) = \n",
    "\\sum_{i=1}^N \\left( (-1)^{i+1} \\cdot P_{\\text{max},i} \\cdot \\frac{\\left(\\frac{E}{s}\\right)^{n_i}}{K_i^{n_i} + \\left(\\frac{E}{s}\\right)^{n_i}} \\right) \n",
    "- I \\cdot \\frac{\\left(\\frac{E}{s}\\right)^2}{\\left(\\frac{E}{s}\\right)^2 + K_I^2}\n",
    "$$\n",
    "\n",
    "### Tune ground truth to your heart's content"
   ]
  },
  {
   "cell_type": "code",
   "execution_count": null,
   "metadata": {},
   "outputs": [
    {
     "data": {
      "application/vnd.jupyter.widget-view+json": {
       "model_id": "5e92b530d86f42a7847655f2d7051e5a",
       "version_major": 2,
       "version_minor": 0
      },
      "text/plain": [
       "VBox(children=(HBox(children=(VBox(children=(FloatSlider(value=38.0, description='p_max1', min=10.0, step=1.0,…"
      ]
     },
     "metadata": {},
     "output_type": "display_data"
    },
    {
     "data": {
      "application/vnd.jupyter.widget-view+json": {
       "model_id": "1ce12a96e40947fcace9d5f97a471f01",
       "version_major": 2,
       "version_minor": 0
      },
      "text/plain": [
       "Output()"
      ]
     },
     "metadata": {},
     "output_type": "display_data"
    }
   ],
   "source": [
    "# Function for plotting\n",
    "def enzyme_truth(\n",
    "    x, p_max1, k1, n1, p_max2, k2, n2, p_max3, k3, n3, p_max4, k4, n4, i, k_I, s\n",
    "):\n",
    "    \"\"\"\n",
    "    True relation of enzyme concentration to productivity.\n",
    "    Parameters\n",
    "    ----------\n",
    "    x : float\n",
    "        Enzyme concentration.\n",
    "    Returns\n",
    "    -------\n",
    "    p : float\n",
    "        Productivity.\n",
    "    \"\"\"\n",
    "    x_scaled = x / s\n",
    "    p1 = p_max1 * (x_scaled**n1 / (k1**n1 + x_scaled**n1))\n",
    "    p2 = p_max2 * (x_scaled**n2 / (k2**n2 + x_scaled**n2))\n",
    "    p3 = p_max3 * (x_scaled**n3 / (k3**n3 + x_scaled**n3))\n",
    "    p4 = p_max4 * (x_scaled**n4 / (k4**n4 + x_scaled**n4))\n",
    "    inhibition = i * (x_scaled**2 / (x_scaled**2 + k_I**2))\n",
    "    return p1 - p2 + p3 - p4 - inhibition\n",
    "\n",
    "\n",
    "def plot_enzyme_truth(\n",
    "    p_max1, k1, n1, p_max2, k2, n2, p_max3, k3, n3, p_max4, k4, n4, i, k_I, s\n",
    "):\n",
    "    x = np.linspace(0, 90, 500)\n",
    "    plt.figure(figsize=(10, 6))\n",
    "    plt.plot(\n",
    "        x,\n",
    "        enzyme_truth(\n",
    "            x, p_max1, k1, n1, p_max2, k2, n2, p_max3, k3, n3, p_max4, k4, n4, i, k_I, s\n",
    "        ),\n",
    "        label=\"Productivity\",\n",
    "        color=\"blue\",\n",
    "    )\n",
    "    plt.title(\"Interactive Parameter Selection with Grouped Layout\")\n",
    "    plt.xlabel(\"Enzyme Concentration [mg mL$^{-1}$]\")\n",
    "    plt.ylabel(\"Productivity [mmol L$^{-1}$ h$^{-1}$]\")\n",
    "    plt.grid()\n",
    "    plt.show()\n",
    "\n",
    "\n",
    "# Sliders\n",
    "p_max1_slider = create_slider(10, 100, 1, 38, \"p_max1\")\n",
    "k1_slider = create_slider(1, 20, 0.5, 8, \"k1\")\n",
    "n1_slider = create_slider(1, 10, 0.1, 2, \"n1\")\n",
    "\n",
    "p_max2_slider = create_slider(10, 50, 1, 26, \"p_max2\")\n",
    "k2_slider = create_slider(10, 50, 1, 20, \"k2\")\n",
    "n2_slider = create_slider(1, 10, 0.1, 6, \"n2\")\n",
    "\n",
    "p_max3_slider = create_slider(10, 100, 1, 80, \"p_max3\")\n",
    "k3_slider = create_slider(20, 50, 1, 34, \"k3\")\n",
    "n3_slider = create_slider(1, 10, 0.1, 4, \"n3\")\n",
    "\n",
    "p_max4_slider = create_slider(10, 100, 1, 71, \"p_max4\")\n",
    "k4_slider = create_slider(40, 90, 1, 57, \"k4\")\n",
    "n4_slider = create_slider(1, 10, 0.1, 6, \"n4\")\n",
    "\n",
    "inhibition_slider = create_slider(10, 150, 1, 72, \"Inhibition\")\n",
    "k_I_slider = create_slider(1, 100, 0.1, 35, \"k_I\")\n",
    "stretch_slider = create_slider(0.1, 5, 0.1, 1.7, \"Stretch\")\n",
    "\n",
    "sliders = {\n",
    "    \"p_max1\": p_max1_slider,\n",
    "    \"k1\": k1_slider,\n",
    "    \"n1\": n1_slider,\n",
    "    \"p_max2\": p_max2_slider,\n",
    "    \"k2\": k2_slider,\n",
    "    \"n2\": n2_slider,\n",
    "    \"p_max3\": p_max3_slider,\n",
    "    \"k3\": k3_slider,\n",
    "    \"n3\": n3_slider,\n",
    "    \"p_max4\": p_max4_slider,\n",
    "    \"k4\": k4_slider,\n",
    "    \"n4\": n4_slider,\n",
    "    \"i\": inhibition_slider,\n",
    "    \"k_I\": k_I_slider,\n",
    "    \"s\": stretch_slider,\n",
    "}\n",
    "\n",
    "# Arrange sliders in groups\n",
    "group1 = VBox([p_max1_slider, k1_slider, n1_slider])\n",
    "group2 = VBox([p_max2_slider, k2_slider, n2_slider])\n",
    "group3 = VBox([p_max3_slider, k3_slider, n3_slider])\n",
    "group4 = VBox([p_max4_slider, k4_slider, n4_slider])\n",
    "global_controls = VBox([inhibition_slider, k_I_slider, stretch_slider])\n",
    "controls = VBox([HBox([group1, group2, group3, group4]), global_controls])\n",
    "\n",
    "\n",
    "# Interactive widget without duplicating sliders\n",
    "widget = interactive_output(\n",
    "    plot_enzyme_truth,\n",
    "    {\n",
    "        \"p_max1\": p_max1_slider,\n",
    "        \"k1\": k1_slider,\n",
    "        \"n1\": n1_slider,\n",
    "        \"p_max2\": p_max2_slider,\n",
    "        \"k2\": k2_slider,\n",
    "        \"n2\": n2_slider,\n",
    "        \"p_max3\": p_max3_slider,\n",
    "        \"k3\": k3_slider,\n",
    "        \"n3\": n3_slider,\n",
    "        \"p_max4\": p_max4_slider,\n",
    "        \"k4\": k4_slider,\n",
    "        \"n4\": n4_slider,\n",
    "        \"i\": inhibition_slider,\n",
    "        \"k_I\": k_I_slider,\n",
    "        \"s\": stretch_slider,\n",
    "    },\n",
    ")\n",
    "\n",
    "# Display the custom layout and plot output\n",
    "display(controls, widget)"
   ]
  },
  {
   "cell_type": "markdown",
   "metadata": {},
   "source": [
    "### Continue with newly created ground truth"
   ]
  },
  {
   "cell_type": "code",
   "execution_count": 3,
   "metadata": {},
   "outputs": [
    {
     "data": {
      "text/plain": [
       "[<matplotlib.lines.Line2D at 0x152612240>]"
      ]
     },
     "execution_count": 3,
     "metadata": {},
     "output_type": "execute_result"
    },
    {
     "data": {
      "image/png": "[encoded data removed]",
      "text/plain": [
       "<Figure size 640x480 with 1 Axes>"
      ]
     },
     "metadata": {},
     "output_type": "display_data"
    }
   ],
   "source": [
    "selected_params = get_slider_values(sliders)\n",
    "\n",
    "x = np.linspace(0, 90, 500)\n",
    "plt.plot(enzyme_truth(x, **selected_params))"
   ]
  }
 ],
 "metadata": {
  "kernelspec": {
   "display_name": "bo-paper",
   "language": "python",
   "name": "python3"
  },
  "language_info": {
   "codemirror_mode": {
    "name": "ipython",
    "version": 3
   },
   "file_extension": ".py",
   "mimetype": "text/x-python",
   "name": "python",
   "nbconvert_exporter": "python",
   "pygments_lexer": "ipython3",
   "version": "3.12.7"
  }
 },
 "nbformat": 4,
 "nbformat_minor": 2
}
